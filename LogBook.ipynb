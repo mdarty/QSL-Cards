{
 "cells": [
  {
   "cell_type": "code",
   "execution_count": null,
   "metadata": {},
   "outputs": [],
   "source": [
    "import adif_io\n",
    "import pandas as pd\n",
    "import requests\n",
    "import json\n",
    "from time import sleep\n",
    "import os\n",
    "import subprocess\n",
    "from pathlib import Path"
   ]
  },
  {
   "cell_type": "code",
   "execution_count": null,
   "metadata": {},
   "outputs": [],
   "source": [
    "pd.set_option('display.max_columns', 500)"
   ]
  },
  {
   "cell_type": "markdown",
   "metadata": {},
   "source": [
    "# Read adif"
   ]
  },
  {
   "cell_type": "code",
   "execution_count": null,
   "metadata": {},
   "outputs": [],
   "source": [
    "qsos_raw, adif_header = adif_io.read_from_file(\"POTA-Test.adi\")\n",
    "\n",
    "# The QSOs are probably sorted by QSO time already, but make sure:\n",
    "for qso in qsos_raw:\n",
    "    qso[\"t\"] = adif_io.time_on(qso)\n",
    "qsos_raw_sorted = sorted(qsos_raw, key = lambda qso: qso[\"t\"])"
   ]
  },
  {
   "cell_type": "code",
   "execution_count": null,
   "metadata": {},
   "outputs": [],
   "source": [
    "qsos = pd.DataFrame(qsos_raw_sorted)\n",
    "# qsos.info()"
   ]
  },
  {
   "cell_type": "code",
   "execution_count": null,
   "metadata": {},
   "outputs": [],
   "source": [
    "qsos"
   ]
  },
  {
   "cell_type": "markdown",
   "metadata": {},
   "source": [
    "# Query HamDB"
   ]
  },
  {
   "cell_type": "code",
   "execution_count": null,
   "metadata": {},
   "outputs": [],
   "source": [
    "responses = []\n",
    "for i, call in enumerate(qsos['CALL'].to_list()):\n",
    "    response = requests.get(\"http://api.hamdb.org/v1/{call}/json/CDR\".format(call=call))\n",
    "    responses.append(pd.DataFrame(json.loads(response.text)['hamdb']['callsign'], index=[i]))\n",
    "    sleep(0.1)"
   ]
  },
  {
   "cell_type": "code",
   "execution_count": null,
   "metadata": {},
   "outputs": [],
   "source": [
    "addresses = pd.concat(responses)"
   ]
  },
  {
   "cell_type": "code",
   "execution_count": null,
   "metadata": {},
   "outputs": [],
   "source": [
    "qsl_info = qsos.merge(addresses, left_on='CALL', right_on='call')"
   ]
  },
  {
   "cell_type": "code",
   "execution_count": null,
   "metadata": {},
   "outputs": [],
   "source": [
    "while qsl_info.shape[0] % 4 > 0:\n",
    "    qsl_info = qsl_info.append(pd.Series(), ignore_index=True)"
   ]
  },
  {
   "cell_type": "code",
   "execution_count": null,
   "metadata": {},
   "outputs": [],
   "source": [
    "qsl_info.loc[qsl_info['FREQ'].astype(float)>100, ['Rig', 'Ant']] = ['UV5R', 'DB Slim Jim']\n",
    "qsl_info.loc[qsl_info['FREQ'].astype(float)<100, ['Rig', 'Ant']] = ['TX-500', 'EFHW 40m']"
   ]
  },
  {
   "cell_type": "code",
   "execution_count": null,
   "metadata": {},
   "outputs": [],
   "source": [
    "qsl_info['Front'] = 0\n",
    "qsl_info.loc[range(0, len(qsl_info), 4), 'Front'] = 1"
   ]
  },
  {
   "cell_type": "code",
   "execution_count": null,
   "metadata": {},
   "outputs": [],
   "source": [
    "for c in ['addr2', 'NAME', 'fname', 'name']:\n",
    "    qsl_info.loc[:, c] = qsl_info.loc[:, c].str.title()"
   ]
  },
  {
   "cell_type": "code",
   "execution_count": null,
   "metadata": {},
   "outputs": [],
   "source": [
    "qsl_info['date'] = pd.to_datetime(qsl_info['t']).dt.strftime(\"%d-%b-%Y\")\n",
    "qsl_info['time'] = pd.to_datetime(qsl_info['t']).dt.strftime(\"%H%M\")\n",
    "qsl_info['zip'] = qsl_info['zip'].str[:5]\n",
    "qsl_info.fillna(' ', inplace=True)"
   ]
  },
  {
   "cell_type": "code",
   "execution_count": null,
   "metadata": {},
   "outputs": [],
   "source": [
    "qsl_info"
   ]
  },
  {
   "cell_type": "code",
   "execution_count": null,
   "metadata": {},
   "outputs": [],
   "source": [
    "out = qsl_info[['Front', 'CALL', 'date', 'time', 'BAND', 'FREQ', 'MODE', 'MY_GRIDSQUARE', 'fname', 'name'\n",
    "              , 'RST_RCVD', 'RST_SENT', 'TX_PWR', 'addr1', 'addr2', 'state', 'zip'\n",
    "              , 'Rig', 'Ant', 'MY_SIG_INFO']]"
   ]
  },
  {
   "cell_type": "code",
   "execution_count": null,
   "metadata": {},
   "outputs": [],
   "source": [
    "out"
   ]
  },
  {
   "cell_type": "markdown",
   "metadata": {},
   "source": [
    "# Write CSV"
   ]
  },
  {
   "cell_type": "code",
   "execution_count": null,
   "metadata": {},
   "outputs": [],
   "source": [
    "out.to_csv('latex/addresses.csv', index_label='index')"
   ]
  },
  {
   "cell_type": "markdown",
   "metadata": {},
   "source": [
    "# Build PDF"
   ]
  },
  {
   "cell_type": "code",
   "execution_count": null,
   "metadata": {},
   "outputs": [],
   "source": [
    "cwd = os.getcwd()"
   ]
  },
  {
   "cell_type": "code",
   "execution_count": null,
   "metadata": {},
   "outputs": [],
   "source": [
    "os.chdir(Path(cwd, 'latex'))"
   ]
  },
  {
   "cell_type": "code",
   "execution_count": null,
   "metadata": {},
   "outputs": [],
   "source": [
    "subprocess.Popen(\"/Library/TeX/texbin/pdflatex {}\".format('test.tex'), shell=True)"
   ]
  },
  {
   "cell_type": "code",
   "execution_count": null,
   "metadata": {},
   "outputs": [],
   "source": [
    "os.chdir(cwd)"
   ]
  },
  {
   "cell_type": "code",
   "execution_count": null,
   "metadata": {},
   "outputs": [],
   "source": []
  }
 ],
 "metadata": {
  "kernelspec": {
   "display_name": "Python 3",
   "language": "python",
   "name": "python3"
  },
  "language_info": {
   "codemirror_mode": {
    "name": "ipython",
    "version": 3
   },
   "file_extension": ".py",
   "mimetype": "text/x-python",
   "name": "python",
   "nbconvert_exporter": "python",
   "pygments_lexer": "ipython3",
   "version": "3.8.5"
  }
 },
 "nbformat": 4,
 "nbformat_minor": 4
}
